{
 "cells": [
  {
   "cell_type": "markdown",
   "id": "fc3024e2",
   "metadata": {},
   "source": [
    "# Lesson 3: Reflection and Blogpost Writing"
   ]
  },
  {
   "cell_type": "markdown",
   "id": "3b0cc42f",
   "metadata": {},
   "source": [
    "## Setup"
   ]
  },
  {
   "cell_type": "code",
   "execution_count": 1,
   "id": "96d39be0-eaf3-456d-8613-ba21099ed36b",
   "metadata": {
    "height": 30
   },
   "outputs": [],
   "source": [
    "llm_config = {\"model\": \"gpt-3.5-turbo\"}"
   ]
  },
  {
   "cell_type": "markdown",
   "id": "0969e6bb",
   "metadata": {},
   "source": [
    "## The task!"
   ]
  },
  {
   "cell_type": "code",
   "execution_count": 2,
   "id": "e8074032-3690-4de9-ad08-ea8323cb441b",
   "metadata": {
    "height": 115
   },
   "outputs": [],
   "source": [
    "task = '''\n",
    "        Write a concise but engaging blogpost about\n",
    "       DeepLearning.AI. Make sure the blogpost is\n",
    "       within 100 words.\n",
    "       '''\n"
   ]
  },
  {
   "cell_type": "markdown",
   "id": "1987f023",
   "metadata": {},
   "source": [
    "## Create a writer agent"
   ]
  },
  {
   "cell_type": "code",
   "execution_count": 3,
   "id": "fe0f0a47-a9fe-43a0-b7b1-79922e4c4ac8",
   "metadata": {
    "height": 199
   },
   "outputs": [],
   "source": [
    "import autogen\n",
    "\n",
    "writer = autogen.AssistantAgent(\n",
    "    name=\"Writer\",\n",
    "    system_message=\"You are a writer. You write engaging and concise \" \n",
    "        \"blogpost (with title) on given topics. You must polish your \"\n",
    "        \"writing based on the feedback you receive and give a refined \"\n",
    "        \"version. Only return your final work without additional comments.\",\n",
    "    llm_config=llm_config,\n",
    ")"
   ]
  },
  {
   "cell_type": "code",
   "execution_count": 4,
   "id": "7c7b4d8d-40f7-4a05-8958-25d20054de3a",
   "metadata": {
    "height": 46
   },
   "outputs": [],
   "source": [
    "reply = writer.generate_reply(messages=[{\"content\": task, \"role\": \"user\"}])"
   ]
  },
  {
   "cell_type": "code",
   "execution_count": 5,
   "id": "c501c97d-e338-4f36-a384-6ec45983cf77",
   "metadata": {
    "height": 30
   },
   "outputs": [
    {
     "name": "stdout",
     "output_type": "stream",
     "text": [
      "Title: Unleashing the Power of Deep Learning with DeepLearning.AI\n",
      "\n",
      "Delve into the world of artificial intelligence and unlock its full potential with DeepLearning.AI. Founded by renowned AI expert Andrew Ng, this platform offers top-notch courses on deep learning, allowing both beginners and professionals to master this cutting-edge technology. Whether you're looking to upskill in AI or dive into a new career path, DeepLearning.AI provides the tools and knowledge you need to succeed. Join the ranks of AI enthusiasts worldwide and embark on an exciting journey of learning and innovation with DeepLearning.AI.\n"
     ]
    }
   ],
   "source": [
    "print(reply)"
   ]
  },
  {
   "cell_type": "markdown",
   "id": "49658114",
   "metadata": {},
   "source": [
    "## Adding reflection \n",
    "\n",
    "Create a critic agent to reflect on the work of the writer agent."
   ]
  },
  {
   "cell_type": "code",
   "execution_count": 6,
   "id": "c7fcd1c7-51ec-4915-8e97-bac03565c4c7",
   "metadata": {
    "height": 165
   },
   "outputs": [],
   "source": [
    "critic = autogen.AssistantAgent(\n",
    "    name=\"Critic\",\n",
    "    is_termination_msg=lambda x: x.get(\"content\", \"\").find(\"TERMINATE\") >= 0,\n",
    "    llm_config=llm_config,\n",
    "    system_message=\"You are a critic. You review the work of \"\n",
    "                \"the writer and provide constructive \"\n",
    "                \"feedback to help improve the quality of the content.\",\n",
    ")"
   ]
  },
  {
   "cell_type": "code",
   "execution_count": 7,
   "id": "899d5fdb-6081-470b-b287-8cf8b8142d0d",
   "metadata": {
    "height": 115
   },
   "outputs": [
    {
     "name": "stdout",
     "output_type": "stream",
     "text": [
      "\u001b[33mCritic\u001b[0m (to Writer):\n",
      "\n",
      "\n",
      "        Write a concise but engaging blogpost about\n",
      "       DeepLearning.AI. Make sure the blogpost is\n",
      "       within 100 words.\n",
      "       \n",
      "\n",
      "--------------------------------------------------------------------------------\n",
      "\u001b[33mWriter\u001b[0m (to Critic):\n",
      "\n",
      "Title: Unleashing the Power of Deep Learning with DeepLearning.AI\n",
      "\n",
      "Delve into the world of artificial intelligence and unlock its full potential with DeepLearning.AI. Founded by renowned AI expert Andrew Ng, this platform offers top-notch courses on deep learning, allowing both beginners and professionals to master this cutting-edge technology. Whether you're looking to upskill in AI or dive into a new career path, DeepLearning.AI provides the tools and knowledge you need to succeed. Join the ranks of AI enthusiasts worldwide and embark on an exciting journey of learning and innovation with DeepLearning.AI.\n",
      "\n",
      "--------------------------------------------------------------------------------\n",
      "\u001b[33mCritic\u001b[0m (to Writer):\n",
      "\n",
      "Your blog post effectively introduces the reader to the DeepLearning.AI platform and conveys its value in a concise and engaging manner. The content is informative and sets the tone for sparking interest in deep learning. To further enhance the post, consider incorporating specific examples of the courses offered on the platform or highlighting success stories of individuals who have benefited from DeepLearning.AI. Additionally, providing insight into the unique teaching methodology or any collaboration with industry experts could make the blog post more compelling. Overall, you've captured the essence of DeepLearning.AI effectively; adding a touch of personalization or storytelling may further captivate the audience.\n",
      "\n",
      "--------------------------------------------------------------------------------\n",
      "\u001b[33mWriter\u001b[0m (to Critic):\n",
      "\n",
      "Title: Master the Future of AI with DeepLearning.AI\n",
      "\n",
      "Discover the extraordinary world of artificial intelligence through DeepLearning.AI, Andrew Ng's groundbreaking platform empowering learners globally. From mastering neural networks to diving into natural language processing, DeepLearning.AI offers courses catering to all skill levels. Imagine harnessing the power of AI to revolutionize industries or kickstarting a new career. By blending expert knowledge with practical applications, this platform equips you with the skills to thrive in the AI landscape. Join a community of innovators and enthusiasts, and let DeepLearning.AI be your gateway to a future fueled by deep learning possibilities.\n",
      "\n",
      "--------------------------------------------------------------------------------\n"
     ]
    }
   ],
   "source": [
    "res = critic.initiate_chat(\n",
    "    recipient=writer,\n",
    "    message=task,\n",
    "    max_turns=2,\n",
    "    summary_method=\"last_msg\"\n",
    ")"
   ]
  },
  {
   "cell_type": "markdown",
   "id": "e7b76449",
   "metadata": {},
   "source": [
    "## Nested chat"
   ]
  },
  {
   "cell_type": "code",
   "execution_count": 8,
   "id": "401ecf92-63e9-40ff-aeed-1c404352e4ab",
   "metadata": {
    "height": 200
   },
   "outputs": [],
   "source": [
    "SEO_reviewer = autogen.AssistantAgent(\n",
    "    name=\"SEO Reviewer\",\n",
    "    llm_config=llm_config,\n",
    "    system_message=\"You are an SEO reviewer, known for \"\n",
    "        \"your ability to optimize content for search engines, \"\n",
    "        \"ensuring that it ranks well and attracts organic traffic. \" \n",
    "        \"Make sure your suggestion is concise (within 3 bullet points), \"\n",
    "        \"concrete and to the point. \"\n",
    "        \"Begin the review by stating your role.\",\n",
    ")\n"
   ]
  },
  {
   "cell_type": "code",
   "execution_count": 9,
   "id": "f85acb81-7ab9-4c84-b8bb-6fbae3dce848",
   "metadata": {
    "height": 183
   },
   "outputs": [],
   "source": [
    "legal_reviewer = autogen.AssistantAgent(\n",
    "    name=\"Legal Reviewer\",\n",
    "    llm_config=llm_config,\n",
    "    system_message=\"You are a legal reviewer, known for \"\n",
    "        \"your ability to ensure that content is legally compliant \"\n",
    "        \"and free from any potential legal issues. \"\n",
    "        \"Make sure your suggestion is concise (within 3 bullet points), \"\n",
    "        \"concrete and to the point. \"\n",
    "        \"Begin the review by stating your role.\",\n",
    ")"
   ]
  },
  {
   "cell_type": "code",
   "execution_count": 10,
   "id": "d46a177a-8088-4956-8d2b-3e916b8ca5e9",
   "metadata": {
    "height": 183
   },
   "outputs": [],
   "source": [
    "ethics_reviewer = autogen.AssistantAgent(\n",
    "    name=\"Ethics Reviewer\",\n",
    "    llm_config=llm_config,\n",
    "    system_message=\"You are an ethics reviewer, known for \"\n",
    "        \"your ability to ensure that content is ethically sound \"\n",
    "        \"and free from any potential ethical issues. \" \n",
    "        \"Make sure your suggestion is concise (within 3 bullet points), \"\n",
    "        \"concrete and to the point. \"\n",
    "        \"Begin the review by stating your role. \",\n",
    ")"
   ]
  },
  {
   "cell_type": "code",
   "execution_count": 11,
   "id": "a7b2ad6f-8ba6-436a-9459-14ffbe8a32d3",
   "metadata": {
    "height": 131
   },
   "outputs": [],
   "source": [
    "meta_reviewer = autogen.AssistantAgent(\n",
    "    name=\"Meta Reviewer\",\n",
    "    llm_config=llm_config,\n",
    "    system_message=\"You are a meta reviewer, you aggragate and review \"\n",
    "    \"the work of other reviewers and give a final suggestion on the content.\",\n",
    ")"
   ]
  },
  {
   "cell_type": "markdown",
   "id": "913beca1",
   "metadata": {},
   "source": [
    "## Orchestrate the nested chats to solve the task"
   ]
  },
  {
   "cell_type": "code",
   "execution_count": 12,
   "id": "a11a70c7-19ca-4e5a-ad3d-f2b481fb5915",
   "metadata": {
    "height": 556
   },
   "outputs": [],
   "source": [
    "def reflection_message(recipient, messages, sender, config):\n",
    "    return f'''Review the following content. \n",
    "            \\n\\n {recipient.chat_messages_for_summary(sender)[-1]['content']}'''\n",
    "\n",
    "review_chats = [\n",
    "    {\n",
    "     \"recipient\": SEO_reviewer, \n",
    "     \"message\": reflection_message, \n",
    "     \"summary_method\": \"reflection_with_llm\",\n",
    "     \"summary_args\": {\"summary_prompt\" : \n",
    "        \"Return review into as JSON object only:\"\n",
    "        \"{'Reviewer': '', 'feedback': ''}. Here Reviewer should be your role\",},\n",
    "     \"max_turns\": 1},\n",
    "    {\n",
    "    \"recipient\": legal_reviewer, \"message\": reflection_message, \n",
    "     \"summary_method\": \"reflection_with_llm\",\n",
    "     \"summary_args\": {\"summary_prompt\" : \n",
    "        \"Return review into as JSON object only:\"\n",
    "        \"{'Reviewer': '', 'feedback': ''}.\",},\n",
    "     \"max_turns\": 1},\n",
    "    {\"recipient\": ethics_reviewer, \"message\": reflection_message, \n",
    "     \"summary_method\": \"reflection_with_llm\",\n",
    "     \"summary_args\": {\"summary_prompt\" : \n",
    "        \"Return review into as JSON object only:\"\n",
    "        \"{'reviewer': '', 'feedback': ''}\",},\n",
    "     \"max_turns\": 1},\n",
    "     {\"recipient\": meta_reviewer, \n",
    "      \"message\": \"Aggregrate feedback from all reviewers and give final suggestions on the writing.\", \n",
    "     \"max_turns\": 1},\n",
    "]\n"
   ]
  },
  {
   "cell_type": "code",
   "execution_count": 13,
   "id": "b3a40b66-5061-460d-ad9d-c0dbcfbba2e9",
   "metadata": {
    "height": 81
   },
   "outputs": [],
   "source": [
    "critic.register_nested_chats(\n",
    "    review_chats,\n",
    "    trigger=writer,\n",
    ")"
   ]
  },
  {
   "cell_type": "markdown",
   "id": "43b8797d",
   "metadata": {},
   "source": [
    "**Note**: You might get a slightly different response than what's shown in the video. Feel free to try different task."
   ]
  },
  {
   "cell_type": "code",
   "execution_count": 14,
   "id": "3b8dcac3-1e72-43b7-9d5a-1be740f6efd5",
   "metadata": {
    "height": 115
   },
   "outputs": [
    {
     "name": "stdout",
     "output_type": "stream",
     "text": [
      "\u001b[33mCritic\u001b[0m (to Writer):\n",
      "\n",
      "\n",
      "        Write a concise but engaging blogpost about\n",
      "       DeepLearning.AI. Make sure the blogpost is\n",
      "       within 100 words.\n",
      "       \n",
      "\n",
      "--------------------------------------------------------------------------------\n",
      "\u001b[33mWriter\u001b[0m (to Critic):\n",
      "\n",
      "Title: Unleashing the Power of Deep Learning with DeepLearning.AI\n",
      "\n",
      "Delve into the world of artificial intelligence and unlock its full potential with DeepLearning.AI. Founded by renowned AI expert Andrew Ng, this platform offers top-notch courses on deep learning, allowing both beginners and professionals to master this cutting-edge technology. Whether you're looking to upskill in AI or dive into a new career path, DeepLearning.AI provides the tools and knowledge you need to succeed. Join the ranks of AI enthusiasts worldwide and embark on an exciting journey of learning and innovation with DeepLearning.AI.\n",
      "\n",
      "--------------------------------------------------------------------------------\n",
      "\u001b[34m\n",
      "********************************************************************************\u001b[0m\n",
      "\u001b[34mStarting a new chat....\u001b[0m\n",
      "\u001b[34m\n",
      "********************************************************************************\u001b[0m\n",
      "\u001b[33mCritic\u001b[0m (to SEO Reviewer):\n",
      "\n",
      "Review the following content. \n",
      "            \n",
      "\n",
      " Title: Unleashing the Power of Deep Learning with DeepLearning.AI\n",
      "\n",
      "Delve into the world of artificial intelligence and unlock its full potential with DeepLearning.AI. Founded by renowned AI expert Andrew Ng, this platform offers top-notch courses on deep learning, allowing both beginners and professionals to master this cutting-edge technology. Whether you're looking to upskill in AI or dive into a new career path, DeepLearning.AI provides the tools and knowledge you need to succeed. Join the ranks of AI enthusiasts worldwide and embark on an exciting journey of learning and innovation with DeepLearning.AI.\n",
      "\n",
      "--------------------------------------------------------------------------------\n",
      "\u001b[33mSEO Reviewer\u001b[0m (to Critic):\n",
      "\n",
      "As an SEO reviewer:\n",
      "\n",
      "- Include relevant keywords: Incorporate specific keywords related to deep learning, artificial intelligence, online courses, Andrew Ng, and upskilling to enhance search engine visibility.\n",
      "- Focus on structured data: Utilize structured data markup, such as schema.org tags, to provide search engines with more context about the content and improve the chances of getting featured snippets.\n",
      "- Call-to-action optimization: Enhance the call-to-action by using actionable language like \"Enroll Now\" or \"Start Learning\" to encourage user engagement.\n",
      "\n",
      "--------------------------------------------------------------------------------\n",
      "\u001b[34m\n",
      "********************************************************************************\u001b[0m\n",
      "\u001b[34mStarting a new chat....\u001b[0m\n",
      "\u001b[34m\n",
      "********************************************************************************\u001b[0m\n",
      "\u001b[33mCritic\u001b[0m (to Legal Reviewer):\n",
      "\n",
      "Review the following content. \n",
      "            \n",
      "\n",
      " Title: Unleashing the Power of Deep Learning with DeepLearning.AI\n",
      "\n",
      "Delve into the world of artificial intelligence and unlock its full potential with DeepLearning.AI. Founded by renowned AI expert Andrew Ng, this platform offers top-notch courses on deep learning, allowing both beginners and professionals to master this cutting-edge technology. Whether you're looking to upskill in AI or dive into a new career path, DeepLearning.AI provides the tools and knowledge you need to succeed. Join the ranks of AI enthusiasts worldwide and embark on an exciting journey of learning and innovation with DeepLearning.AI.\n",
      "Context: \n",
      "{'Reviewer': 'SEO Specialist', 'feedback': '- Include relevant keywords: Incorporate specific keywords related to deep learning, artificial intelligence, online courses, Andrew Ng, and upskilling to enhance search engine visibility.\\n- Focus on structured data: Utilize structured data markup, such as schema.org tags, to provide search engines with more context about the content and improve the chances of getting featured snippets.\\n- Call-to-action optimization: Enhance the call-to-action by using actionable language like \"Enroll Now\" or \"Start Learning\" to encourage user engagement.'}\n",
      "\n",
      "--------------------------------------------------------------------------------\n",
      "\u001b[33mLegal Reviewer\u001b[0m (to Critic):\n",
      "\n",
      "As a Legal Reviewer:\n",
      "\n",
      "- Ensure compliance with data privacy regulations: Confirm that any data collected or processed through the platform is in line with relevant data protection laws to protect user privacy.\n",
      "- Review for accuracy in claims: Verify the accuracy of statements made about the courses and their benefits to avoid any misleading advertising claims.\n",
      "- Check for intellectual property issues: Confirm that all content, including use of Andrew Ng's name, is done with proper authorization and does not infringe on any copyrights or trademarks.\n",
      "\n",
      "--------------------------------------------------------------------------------\n",
      "\u001b[34m\n",
      "********************************************************************************\u001b[0m\n",
      "\u001b[34mStarting a new chat....\u001b[0m\n",
      "\u001b[34m\n",
      "********************************************************************************\u001b[0m\n",
      "\u001b[33mCritic\u001b[0m (to Ethics Reviewer):\n",
      "\n",
      "Review the following content. \n",
      "            \n",
      "\n",
      " Title: Unleashing the Power of Deep Learning with DeepLearning.AI\n",
      "\n",
      "Delve into the world of artificial intelligence and unlock its full potential with DeepLearning.AI. Founded by renowned AI expert Andrew Ng, this platform offers top-notch courses on deep learning, allowing both beginners and professionals to master this cutting-edge technology. Whether you're looking to upskill in AI or dive into a new career path, DeepLearning.AI provides the tools and knowledge you need to succeed. Join the ranks of AI enthusiasts worldwide and embark on an exciting journey of learning and innovation with DeepLearning.AI.\n",
      "Context: \n",
      "{'Reviewer': 'SEO Specialist', 'feedback': '- Include relevant keywords: Incorporate specific keywords related to deep learning, artificial intelligence, online courses, Andrew Ng, and upskilling to enhance search engine visibility.\\n- Focus on structured data: Utilize structured data markup, such as schema.org tags, to provide search engines with more context about the content and improve the chances of getting featured snippets.\\n- Call-to-action optimization: Enhance the call-to-action by using actionable language like \"Enroll Now\" or \"Start Learning\" to encourage user engagement.'}\n",
      "{'Reviewer': 'SEO Specialist', 'feedback': '- Include relevant keywords: Incorporate specific keywords related to deep learning, artificial intelligence, online courses, Andrew Ng, and upskilling to enhance search engine visibility.\\n- Focus on structured data: Utilize structured data markup, such as schema.org tags, to provide search engines with more context about the content and improve the chances of getting featured snippets.\\n- Call-to-action optimization: Enhance the call-to-action by using actionable language like \"Enroll Now\" or \"Start Learning\" to encourage user engagement.'}\n",
      "\n",
      "--------------------------------------------------------------------------------\n",
      "\u001b[33mEthics Reviewer\u001b[0m (to Critic):\n",
      "\n",
      "As an Ethics Reviewer:\n",
      "\n",
      "1. Ensure that any claims made about the effectiveness or benefits of DeepLearning.AI courses are backed by evidence or data to avoid misleading potential users.\n",
      "2. Clearly disclose any potential conflicts of interest, such as any financial relationships between the content creators and DeepLearning.AI, to maintain transparency.\n",
      "3. Obtain permission to use any images, testimonials, or endorsements to avoid copyright infringement and ensure consent from those involved in the content creation.\n",
      "\n",
      "--------------------------------------------------------------------------------\n",
      "\u001b[34m\n",
      "********************************************************************************\u001b[0m\n",
      "\u001b[34mStarting a new chat....\u001b[0m\n",
      "\u001b[34m\n",
      "********************************************************************************\u001b[0m\n",
      "\u001b[33mCritic\u001b[0m (to Meta Reviewer):\n",
      "\n",
      "Aggregrate feedback from all reviewers and give final suggestions on the writing.\n",
      "Context: \n",
      "{'Reviewer': 'SEO Specialist', 'feedback': '- Include relevant keywords: Incorporate specific keywords related to deep learning, artificial intelligence, online courses, Andrew Ng, and upskilling to enhance search engine visibility.\\n- Focus on structured data: Utilize structured data markup, such as schema.org tags, to provide search engines with more context about the content and improve the chances of getting featured snippets.\\n- Call-to-action optimization: Enhance the call-to-action by using actionable language like \"Enroll Now\" or \"Start Learning\" to encourage user engagement.'}\n",
      "{'Reviewer': 'SEO Specialist', 'feedback': '- Include relevant keywords: Incorporate specific keywords related to deep learning, artificial intelligence, online courses, Andrew Ng, and upskilling to enhance search engine visibility.\\n- Focus on structured data: Utilize structured data markup, such as schema.org tags, to provide search engines with more context about the content and improve the chances of getting featured snippets.\\n- Call-to-action optimization: Enhance the call-to-action by using actionable language like \"Enroll Now\" or \"Start Learning\" to encourage user engagement.'}\n",
      "{'reviewer': 'Ethics Reviewer', 'feedback': '1. Ensure that any claims made about the effectiveness or benefits of DeepLearning.AI courses are backed by evidence or data to avoid misleading potential users. 2. Clearly disclose any potential conflicts of interest, such as any financial relationships between the content creators and DeepLearning.AI, to maintain transparency. 3. Obtain permission to use any images, testimonials, or endorsements to avoid copyright infringement and ensure consent from those involved in the content creation.'}\n"
     ]
    },
    {
     "name": "stdout",
     "output_type": "stream",
     "text": [
      "\n",
      "--------------------------------------------------------------------------------\n",
      "\u001b[33mMeta Reviewer\u001b[0m (to Critic):\n",
      "\n",
      "**Aggregated Feedback:**\n",
      "1. **SEO Specialist (Reviewers 1 & 2):**  \n",
      "   - Incorporate keywords related to deep learning, artificial intelligence, online courses, Andrew Ng, and upskilling for improved search engine visibility.\n",
      "   - Utilize structured data markup like schema.org tags to give context to search engines and increase chances of getting featured snippets.\n",
      "   - Enhance call-to-action with actionable language such as \"Enroll Now\" or \"Start Learning\" to boost user engagement.\n",
      "\n",
      "2. **Ethics Reviewer:**  \n",
      "   - Back any claims about the effectiveness of DeepLearning.AI courses with evidence to avoid misleading users.\n",
      "   - Disclose any potential conflicts of interest to maintain transparency.\n",
      "   - Obtain permission to use images, testimonials, and endorsements to avoid copyright infringement and ensure consent.\n",
      "\n",
      "**Final Suggestions:**\n",
      "- This content can benefit from incorporating the recommended keywords and focusing on structured data to improve search visibility and user engagement. \n",
      "- Ensure any claims made are supported by evidence and transparently disclose any potential conflicts of interest.\n",
      "- Obtaining proper permissions for images and endorsements is crucial to avoid copyright issues.\n",
      " \n",
      "Overall, enhancing the content with these suggestions will not only improve its SEO performance but also ensure ethical and transparent practices.\n",
      "\n",
      "--------------------------------------------------------------------------------\n",
      "\u001b[33mCritic\u001b[0m (to Writer):\n",
      "\n",
      "**Aggregated Feedback:**\n",
      "1. **SEO Specialist (Reviewers 1 & 2):**  \n",
      "   - Incorporate keywords related to deep learning, artificial intelligence, online courses, Andrew Ng, and upskilling for improved search engine visibility.\n",
      "   - Utilize structured data markup like schema.org tags to give context to search engines and increase chances of getting featured snippets.\n",
      "   - Enhance call-to-action with actionable language such as \"Enroll Now\" or \"Start Learning\" to boost user engagement.\n",
      "\n",
      "2. **Ethics Reviewer:**  \n",
      "   - Back any claims about the effectiveness of DeepLearning.AI courses with evidence to avoid misleading users.\n",
      "   - Disclose any potential conflicts of interest to maintain transparency.\n",
      "   - Obtain permission to use images, testimonials, and endorsements to avoid copyright infringement and ensure consent.\n",
      "\n",
      "**Final Suggestions:**\n",
      "- This content can benefit from incorporating the recommended keywords and focusing on structured data to improve search visibility and user engagement. \n",
      "- Ensure any claims made are supported by evidence and transparently disclose any potential conflicts of interest.\n",
      "- Obtaining proper permissions for images and endorsements is crucial to avoid copyright issues.\n",
      " \n",
      "Overall, enhancing the content with these suggestions will not only improve its SEO performance but also ensure ethical and transparent practices.\n",
      "\n",
      "--------------------------------------------------------------------------------\n",
      "\u001b[33mWriter\u001b[0m (to Critic):\n",
      "\n",
      "Title: Master Deep Learning and AI with DeepLearning.AI: A Comprehensive Review\n",
      "\n",
      "Discover the vast potential of artificial intelligence through DeepLearning.AI, a leading online platform founded by AI luminary Andrew Ng. Offering a wide range of courses, from beginner to advanced levels, DeepLearning.AI equips learners with the essential skills needed to navigate the dynamic field of deep learning. Gain expertise, upskill in AI, and explore new career avenues with confidence. Enhance your knowledge, propel your career, and unleash your creativity with DeepLearning.AI. Enroll now and embark on a transformative learning journey!\n",
      "\n",
      "--------------------------------------------------------------------------------\n"
     ]
    }
   ],
   "source": [
    "res = critic.initiate_chat(\n",
    "    recipient=writer,\n",
    "    message=task,\n",
    "    max_turns=2,\n",
    "    summary_method=\"last_msg\"\n",
    ")"
   ]
  },
  {
   "cell_type": "markdown",
   "id": "c5c833b0",
   "metadata": {},
   "source": [
    "## Get the summary"
   ]
  },
  {
   "cell_type": "code",
   "execution_count": 15,
   "id": "68ef82ed-f102-4964-b7be-60e2f258a39b",
   "metadata": {
    "height": 30
   },
   "outputs": [
    {
     "name": "stdout",
     "output_type": "stream",
     "text": [
      "Title: Master Deep Learning and AI with DeepLearning.AI: A Comprehensive Review\n",
      "\n",
      "Discover the vast potential of artificial intelligence through DeepLearning.AI, a leading online platform founded by AI luminary Andrew Ng. Offering a wide range of courses, from beginner to advanced levels, DeepLearning.AI equips learners with the essential skills needed to navigate the dynamic field of deep learning. Gain expertise, upskill in AI, and explore new career avenues with confidence. Enhance your knowledge, propel your career, and unleash your creativity with DeepLearning.AI. Enroll now and embark on a transformative learning journey!\n"
     ]
    }
   ],
   "source": [
    "print(res.summary)"
   ]
  },
  {
   "cell_type": "code",
   "execution_count": 18,
   "id": "1093b653",
   "metadata": {
    "height": 47
   },
   "outputs": [
    {
     "name": "stdout",
     "output_type": "stream",
     "text": [
      "[{'content': '\\n'\n",
      "             '        Write a concise but engaging blogpost about\\n'\n",
      "             '       DeepLearning.AI. Make sure the blogpost is\\n'\n",
      "             '       within 100 words.\\n'\n",
      "             '       ',\n",
      "  'role': 'assistant'},\n",
      " {'content': 'Title: Unleashing the Power of Deep Learning with '\n",
      "             'DeepLearning.AI\\n'\n",
      "             '\\n'\n",
      "             'Delve into the world of artificial intelligence and unlock its '\n",
      "             'full potential with DeepLearning.AI. Founded by renowned AI '\n",
      "             'expert Andrew Ng, this platform offers top-notch courses on deep '\n",
      "             'learning, allowing both beginners and professionals to master '\n",
      "             \"this cutting-edge technology. Whether you're looking to upskill \"\n",
      "             'in AI or dive into a new career path, DeepLearning.AI provides '\n",
      "             'the tools and knowledge you need to succeed. Join the ranks of '\n",
      "             'AI enthusiasts worldwide and embark on an exciting journey of '\n",
      "             'learning and innovation with DeepLearning.AI.',\n",
      "  'role': 'user'},\n",
      " {'content': '**Aggregated Feedback:**\\n'\n",
      "             '1. **SEO Specialist (Reviewers 1 & 2):**  \\n'\n",
      "             '   - Incorporate keywords related to deep learning, artificial '\n",
      "             'intelligence, online courses, Andrew Ng, and upskilling for '\n",
      "             'improved search engine visibility.\\n'\n",
      "             '   - Utilize structured data markup like schema.org tags to give '\n",
      "             'context to search engines and increase chances of getting '\n",
      "             'featured snippets.\\n'\n",
      "             '   - Enhance call-to-action with actionable language such as '\n",
      "             '\"Enroll Now\" or \"Start Learning\" to boost user engagement.\\n'\n",
      "             '\\n'\n",
      "             '2. **Ethics Reviewer:**  \\n'\n",
      "             '   - Back any claims about the effectiveness of DeepLearning.AI '\n",
      "             'courses with evidence to avoid misleading users.\\n'\n",
      "             '   - Disclose any potential conflicts of interest to maintain '\n",
      "             'transparency.\\n'\n",
      "             '   - Obtain permission to use images, testimonials, and '\n",
      "             'endorsements to avoid copyright infringement and ensure '\n",
      "             'consent.\\n'\n",
      "             '\\n'\n",
      "             '**Final Suggestions:**\\n'\n",
      "             '- This content can benefit from incorporating the recommended '\n",
      "             'keywords and focusing on structured data to improve search '\n",
      "             'visibility and user engagement. \\n'\n",
      "             '- Ensure any claims made are supported by evidence and '\n",
      "             'transparently disclose any potential conflicts of interest.\\n'\n",
      "             '- Obtaining proper permissions for images and endorsements is '\n",
      "             'crucial to avoid copyright issues.\\n'\n",
      "             ' \\n'\n",
      "             'Overall, enhancing the content with these suggestions will not '\n",
      "             'only improve its SEO performance but also ensure ethical and '\n",
      "             'transparent practices.',\n",
      "  'role': 'assistant'},\n",
      " {'content': 'Title: Master Deep Learning and AI with DeepLearning.AI: A '\n",
      "             'Comprehensive Review\\n'\n",
      "             '\\n'\n",
      "             'Discover the vast potential of artificial intelligence through '\n",
      "             'DeepLearning.AI, a leading online platform founded by AI '\n",
      "             'luminary Andrew Ng. Offering a wide range of courses, from '\n",
      "             'beginner to advanced levels, DeepLearning.AI equips learners '\n",
      "             'with the essential skills needed to navigate the dynamic field '\n",
      "             'of deep learning. Gain expertise, upskill in AI, and explore new '\n",
      "             'career avenues with confidence. Enhance your knowledge, propel '\n",
      "             'your career, and unleash your creativity with DeepLearning.AI. '\n",
      "             'Enroll now and embark on a transformative learning journey!',\n",
      "  'role': 'user'}]\n"
     ]
    }
   ],
   "source": [
    "from pprint import pprint\n",
    "pprint(res.chat_history)"
   ]
  },
  {
   "cell_type": "code",
   "execution_count": null,
   "id": "8e617e22",
   "metadata": {
    "height": 30
   },
   "outputs": [],
   "source": []
  }
 ],
 "metadata": {
  "kernelspec": {
   "display_name": ".venv",
   "language": "python",
   "name": "python3"
  },
  "language_info": {
   "codemirror_mode": {
    "name": "ipython",
    "version": 3
   },
   "file_extension": ".py",
   "mimetype": "text/x-python",
   "name": "python",
   "nbconvert_exporter": "python",
   "pygments_lexer": "ipython3",
   "version": "3.11.8"
  }
 },
 "nbformat": 4,
 "nbformat_minor": 5
}
